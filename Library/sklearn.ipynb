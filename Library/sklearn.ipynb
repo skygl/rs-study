{
 "cells": [
  {
   "cell_type": "markdown",
   "metadata": {},
   "source": [
    "# model_selection"
   ]
  },
  {
   "cell_type": "markdown",
   "metadata": {},
   "source": [
    "## train_test_split\n",
    "\n",
    "```python\n",
    "sklearn.model_selection.train_test_split(*arrays, test_size=None, train_size=None, random_state=None, shuffle=True, stratify=None)\n",
    "```\n",
    "\n",
    "배열 또는 행렬을 랜덤하게 트레이닝 셋과 테스트 셋으로 분리하는 함수\n",
    "\n",
    "- *array\n",
    "    - 같은 길이를 갖는 인덱스가 있는 시퀀스들\n",
    "    - lists, numpy arrays, scipy-sparse matrices, pandas dataframes가 허용된다\n",
    "- test_size\n",
    "    - float 일 경우 0.0~1.0 사이 값으로 테스트 셋의 사이즈를 표현\n",
    "    - int일 경우 테스트 셋의 값을 직접 입력\n",
    "    - None일 경우 `전체 사이즈 - train_size`\n",
    "        - train_size도 None일 경우 0.25로 세팅\n",
    "- train_size\n",
    "    - float 일 경우 0.0~1.0 사이 값으로 테스트 셋의 사이즈를 표현\n",
    "    - int일 경우 테스트 셋의 값을 직접 입력\n",
    "    - None일 경우 `전체 사이즈 - test_size`\n",
    "- random_state\n",
    "    - Split 작업 전에 Data Shuffling 을 조절\n",
    "    - 셔플을 위한 시드 값"
   ]
  }
 ],
 "metadata": {
  "kernelspec": {
   "display_name": "Python 3",
   "language": "python",
   "name": "python3"
  },
  "language_info": {
   "codemirror_mode": {
    "name": "ipython",
    "version": 3
   },
   "file_extension": ".py",
   "mimetype": "text/x-python",
   "name": "python",
   "nbconvert_exporter": "python",
   "pygments_lexer": "ipython3",
   "version": "3.8.3"
  }
 },
 "nbformat": 4,
 "nbformat_minor": 4
}
