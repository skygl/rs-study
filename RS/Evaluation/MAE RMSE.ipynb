{
 "cells": [
  {
   "cell_type": "markdown",
   "metadata": {},
   "source": [
    "# Mean Absolute Error(MAE)\n",
    "\n",
    "추천 시스템으로부터 예측된 값과 실제 값의 오차(절대값)의 평균 값을 측정합니다.\n",
    "\n",
    "$${\\Sigma_{i=1}^n{|y_i-x_i|}}\\over{n}$$\n",
    "\n",
    "|predicted rating|actual rating|error|\n",
    "|:--:|:--:|:--:|\n",
    "|5|3|2|\n",
    "|4|1|3|\n",
    "|5|4|1|\n",
    "|1|1|0|\n",
    "\n",
    "- MAE = (2+3+1+0)/4 = 1.5\n",
    "\n",
    "# Root Mean Squared Error(RMSE)\n",
    "\n",
    "추천 시스템으로부터 예측된 값과 실제 값의 오차의 제곱의 평균 값의 제곱근 값을 측정합니다.\n",
    "\n",
    "$$\\sqrt{{\\Sigma_{i=1}^n{(y_i-x_i)}^2}\\over{n}}$$\n",
    "\n",
    "|predicted rating|actual rating|$\\text{error}^2$|\n",
    "|:--:|:--:|:--:|\n",
    "|5|3|4|\n",
    "|4|1|9|\n",
    "|5|4|1|\n",
    "|1|1|0|\n",
    "\n",
    "- RMSE = $\\sqrt{{(4+9+1+0)}\\over{4}}$ = 1.87\n",
    "\n",
    "# 유사점\n",
    "\n",
    "- MAE와 RMSE 모두 평균적인 오차를 표현합니다.\n",
    "- 두 지표 모두 0부터 무한대까지 범위를 가질 수 있고, 오차의 방향(+/-)에 무관합니다.\n",
    "- 둘 다 낮은 값이 더 좋다는 것을 의미하는 negatively-oriented scores입니다.\n",
    "\n",
    "# 차이점\n",
    "\n",
    "- RMSE는 평균화되기 전에 오차를 제곱시키기 때문에, 더 큰 오차에 상대적으로 높은 가중치를 부여합니다. 따라서 큰 오차를 원하지 않을 때 RMSE가 더 유용합니다.\n",
    "- 오차의 빈도 분포의 변화에 RMSE가 더 민감합니다.\n",
    "\n",
    "# 결론\n",
    "\n",
    "- MAE와 RMSE 모두 오차를 측정하는 방법입니다.\n",
    "- RMSE는 단순한 오차 뿐만 아니라 위와 같이 이해하기 어려운 부분들을 포함하고 있기 때문에 MAE가 직관적으로 이해하기 더 쉽습니다.\n",
    "- RMSE는 더 큰 오차에 대한 처리가 필요할 때 유용합니다.\n",
    "- MAE를 구하기 위해서는 절대값을 이용하는데 컴퓨터의 연산적인 측면에서 더 많은 처리가 필요합니다."
   ]
  },
  {
   "cell_type": "markdown",
   "metadata": {},
   "source": [
    "# Reference\n",
    "\n",
    "- https://medium.com/human-in-a-machine-world/mae-and-rmse-which-metric-is-better-e60ac3bde13d"
   ]
  }
 ],
 "metadata": {
  "kernelspec": {
   "display_name": "Python 3",
   "language": "python",
   "name": "python3"
  },
  "language_info": {
   "codemirror_mode": {
    "name": "ipython",
    "version": 3
   },
   "file_extension": ".py",
   "mimetype": "text/x-python",
   "name": "python",
   "nbconvert_exporter": "python",
   "pygments_lexer": "ipython3",
   "version": "3.8.3"
  }
 },
 "nbformat": 4,
 "nbformat_minor": 4
}
