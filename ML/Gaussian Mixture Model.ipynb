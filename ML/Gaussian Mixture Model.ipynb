{
 "cells": [
  {
   "cell_type": "markdown",
   "metadata": {},
   "source": [
    "## Mixture Model\n",
    "\n",
    "전체 분포에서 하위 분포가 존재한다고 보는 모델\n",
    "\n",
    "데이터가 Parameter를 갖는 여러 개의 분포로부터 생성되었다고 가정하는 모델\n",
    "\n",
    "## Gaussian Mixture Model (GMM)\n",
    "\n",
    "데이터가 K의 개의 Gaussian 분포로부터 생성되었다고 보는 모델\n",
    "\n",
    "<img src=\"https://img1.daumcdn.net/thumb/R1280x0/?scode=mtistory2&fname=https%3A%2F%2Fblog.kakaocdn.net%2Fdn%2Fb3f2V8%2FbtqEPvtpMLx%2FnRiiUO4hffuLfaoYLKSWx0%2Fimg.png\">\n",
    "\n",
    "주어진 데이터 $x$에 대해 GMM은 $x$가 발생할 확률을 아래와 같이 여러 Gaussian Probability Density Function의 합으로 표현합니다.\n",
    "\n",
    "$$p(x) = \\Sigma_{k=1}^K\\pi_kN(x|\\mu_k,\\Sigma_k)$$\n",
    "\n",
    "위의 식에서 Mixing Coefficient라고 하는 $\\pi_k$는 $k$번째 Gaussian Distribution이 선택될 확률을 나타냅니다. $\\pi_k$는 아래의 두 조건을 만족해야 합니다.\n",
    "\n",
    "1. $0\\leq \\pi_k \\leq 1$\n",
    "2. $\\Sigma_{k=1}^K\\pi_k=1$\n",
    "\n",
    "GMM을 학습시킨다는 것은 주어진 데이터 $X={x_1,x_2,...,x_N}$에 대하여 적절한 $\\pi_k,\\mu_k,\\Sigma_k$를 추정하는 것과 같습니다.\n",
    "\n"
   ]
  },
  {
   "cell_type": "markdown",
   "metadata": {},
   "source": [
    "## Reference\n",
    "\n",
    "- https://untitledtblog.tistory.com/133\n",
    "- https://3months.tistory.com/154"
   ]
  }
 ],
 "metadata": {
  "kernelspec": {
   "display_name": "Python 3",
   "language": "python",
   "name": "python3"
  },
  "language_info": {
   "codemirror_mode": {
    "name": "ipython",
    "version": 3
   },
   "file_extension": ".py",
   "mimetype": "text/x-python",
   "name": "python",
   "nbconvert_exporter": "python",
   "pygments_lexer": "ipython3",
   "version": "3.8.3"
  }
 },
 "nbformat": 4,
 "nbformat_minor": 4
}
