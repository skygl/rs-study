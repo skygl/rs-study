{
 "cells": [
  {
   "cell_type": "markdown",
   "metadata": {},
   "source": [
    "# 경사 하강법 (Gradient Descent)\n",
    "\n",
    "함수의 기울기가 낮은 방향으로 반복해서 이동하는 과정을 통해 함수의 극솟값을 찾아내는 알고리즘\n",
    "\n",
    "머신러닝에서는 모델의 파라미터(W, b)를 업데이트 할 때 비용 함수를 최소화하는 파라미터를 찾기 위해 사용된다.\n",
    "=> <font color='red'><b>학습을 통해 모델의 최적 파라미터를 찾는 것이 목표</b></font>"
   ]
  },
  {
   "cell_type": "markdown",
   "metadata": {},
   "source": [
    "## 과정\n",
    "\n",
    "1. 가중치 $W$를 특정 값으로 세팅한다.\n",
    "\n",
    "2. 비용 함수를 $W$에 대해 편미분해주고, Learning Rate($\\alpha$)를 곱한 값을 기존 가중치 $W$에서 뺀다.\n",
    "\n",
    "$$W := W - \\alpha {{\\partial}\\over{\\partial W}}J(W,b)$$\n",
    "\n",
    "$$W := W - \\alpha {{\\partial}\\over{\\partial W}}{1\\over{2m}}\\sum_{i=1}^m{(\\hat{y}^{(i)}-y^{(i)})^2}$$\n",
    "\n",
    "$$W := W - \\alpha {{\\partial}\\over{\\partial W}}{1\\over{2m}}\\sum_{i=1}^m{((Wx^{(i)}+b)-y^{(i)})^2}$$\n",
    "\n",
    "$$W := W - \\alpha {1\\over{2m}}\\sum_{i=1}^m{2((Wx^{(i)}+b)-y^{(i)})x^{(i)}}$$\n",
    "\n",
    "$$W := W - \\alpha {1\\over{m}}\\sum_{i=1}^m{((Wx^{(i)}+b)-y^{(i)})x^{(i)}}$$\n",
    "\n",
    "3. 비용함수 값이 충분히 빠르게 변하지 않거나 기울기가 충분히 작을 때까지 반복한다."
   ]
  }
 ],
 "metadata": {
  "kernelspec": {
   "display_name": "Python 3",
   "language": "python",
   "name": "python3"
  },
  "language_info": {
   "codemirror_mode": {
    "name": "ipython",
    "version": 3
   },
   "file_extension": ".py",
   "mimetype": "text/x-python",
   "name": "python",
   "nbconvert_exporter": "python",
   "pygments_lexer": "ipython3",
   "version": "3.8.3"
  }
 },
 "nbformat": 4,
 "nbformat_minor": 4
}
