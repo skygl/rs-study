{
 "cells": [
  {
   "cell_type": "markdown",
   "metadata": {},
   "source": [
    "# Norms\n",
    "\n",
    "**Norm**이란 벡터의 크기(또는 길이)를 측정하는 방법(또는 함수)\n",
    "\n",
    "$$\\Vert x \\Vert_p =\\bigg(\\sum_{i=1}^n{\\vert x_i \\vert^p} \\bigg)^{1\\over p}$$\n",
    "\n",
    "여기서 p는 Norm의 차수\n",
    "\n",
    "보통 L1 Norm(p = 1), L2 Norm(p = 2)을 다룬다."
   ]
  },
  {
   "cell_type": "code",
   "execution_count": 14,
   "metadata": {},
   "outputs": [],
   "source": [
    "import numpy as np\n",
    "\n",
    "p = np.array([3,1,-3])\n",
    "q = np.array([5,0,7])"
   ]
  },
  {
   "cell_type": "markdown",
   "metadata": {},
   "source": [
    "## L1 Norm\n",
    "\n",
    "$$L_1 = \\sum_{i=1}^n \\vert x_i \\vert = \\vert x_1\\vert+\\vert x_2\\vert+...+\\vert x_n\\vert$$\n",
    "\n",
    "벡터의 요소에 대한 절대값의 합으로 `Manhattan Norm`이라고도 한다.\n",
    "\n",
    "만약 두 개의 벡터간 거리를 구한다면 두 벡터의 각 원소들의 차이의 절대값의 합이다.\n",
    "\n",
    "$$d_1(p,q)=\\Vert p-q \\Vert_1=\\sum_{i=1}^n{\\vert p_i-q_i \\vert}$$\n",
    "\n",
    "예를 들어 두 벡터 p,q가  $p = (3,1,-3)$, $q = (5,0,7)$라고 하면 p, q의 L1 Norm은 $\\vert 3 - 5 \\vert + \\vert 1 - 0 \\vert + \\vert -3 -7\\vert = 2+1+10=13$이다."
   ]
  },
  {
   "cell_type": "code",
   "execution_count": 26,
   "metadata": {},
   "outputs": [
    {
     "name": "stdout",
     "output_type": "stream",
     "text": [
      "p : 7.0\n",
      "q : 12.0\n",
      "p-q : 13.0\n"
     ]
    }
   ],
   "source": [
    "print('p : {}'.format(np.linalg.norm(p, ord=1)))\n",
    "print('q : {}'.format(np.linalg.norm(q, ord=1)))\n",
    "print('p-q : {}'.format(np.linalg.norm((p - q), ord=1)))"
   ]
  },
  {
   "cell_type": "markdown",
   "metadata": {},
   "source": [
    "## L2 Norm\n",
    "\n",
    "$$L_2=\\sqrt{\\sum_{i=1}^n{x_i^2}}=\\sqrt{x \\cdot x}=\\sqrt{x^Tx}=\\sqrt{x_1^2+x_2^2+...+x_n^2}$$\n",
    "\n",
    "벡터 간의 직선 거리로 `Euclidean Norm` 이라고도 한다.\n",
    "\n",
    "두 개의 벡터간 거리를 구한다면 다음과 같다.\n",
    "\n",
    "$$d_2(p,q)=\\sqrt{\\sum_{i=1}^n{(p_i-q_i)^2}}$$"
   ]
  },
  {
   "cell_type": "code",
   "execution_count": 25,
   "metadata": {},
   "outputs": [
    {
     "name": "stdout",
     "output_type": "stream",
     "text": [
      "p: 4.358898943540674\n",
      "q: 8.602325267042627\n",
      "p-q: 10.246950765959598\n"
     ]
    }
   ],
   "source": [
    "print('p: {}'.format(np.linalg.norm(p)))\n",
    "print('q: {}'.format(np.linalg.norm(q)))\n",
    "print('p-q: {}'.format(np.linalg.norm(p - q)))"
   ]
  },
  {
   "cell_type": "markdown",
   "metadata": {},
   "source": [
    "## Maximum Norm\n",
    "\n",
    "$$L_\\infty =max(\\vert x_1 \\vert, \\vert x_2 \\vert, ... , \\vert x_n \\vert)$$\n",
    "\n",
    "p 값을 무한대로 보냈을 때의 거리\n",
    "\n",
    "벡터 성분의 최대값\n",
    "\n",
    "최대 거리 함수"
   ]
  },
  {
   "cell_type": "code",
   "execution_count": 24,
   "metadata": {},
   "outputs": [
    {
     "name": "stdout",
     "output_type": "stream",
     "text": [
      "p: 3.0\n",
      "q: 7.0\n",
      "p-q: 10.0\n"
     ]
    }
   ],
   "source": [
    "print('p: {}'.format(np.linalg.norm(p, ord=np.inf)))\n",
    "print('q: {}'.format(np.linalg.norm(q, ord=np.inf)))\n",
    "print('p-q: {}'.format(np.linalg.norm(p - q, ord=np.inf)))"
   ]
  },
  {
   "cell_type": "markdown",
   "metadata": {},
   "source": [
    "## Frobenius Norm\n",
    "\n",
    "$$\\Vert A \\Vert_F = \\sqrt{\\sum_{i=1}^m\\sum_{j=1}^n{\\vert a_{ij} \\vert^2}}$$\n",
    "\n",
    "L2 Norm의 Matrix 버전으로 $m \\times n$ 행렬 $A$의 Frobenius Norm은 위와 같다."
   ]
  },
  {
   "cell_type": "code",
   "execution_count": 23,
   "metadata": {},
   "outputs": [
    {
     "name": "stdout",
     "output_type": "stream",
     "text": [
      "A: 9.539392014169456\n",
      "B: 23.643180835073778\n",
      "A-B: 14.696938456699069\n"
     ]
    }
   ],
   "source": [
    "A = np.array([[1,2,3],[4,5,6]])\n",
    "B = np.array([[7,8,9],[10,11,12]])\n",
    "\n",
    "print('A: {}'.format(np.linalg.norm(A, ord='fro')))\n",
    "print('B: {}'.format(np.linalg.norm(B, ord='fro')))\n",
    "print('A-B: {}'.format(np.linalg.norm(A - B, ord='fro')))"
   ]
  }
 ],
 "metadata": {
  "kernelspec": {
   "display_name": "Python 3",
   "language": "python",
   "name": "python3"
  },
  "language_info": {
   "codemirror_mode": {
    "name": "ipython",
    "version": 3
   },
   "file_extension": ".py",
   "mimetype": "text/x-python",
   "name": "python",
   "nbconvert_exporter": "python",
   "pygments_lexer": "ipython3",
   "version": "3.8.3"
  }
 },
 "nbformat": 4,
 "nbformat_minor": 4
}
