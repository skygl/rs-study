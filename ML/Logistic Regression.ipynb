{
 "cells": [
  {
   "cell_type": "markdown",
   "metadata": {},
   "source": [
    "# Logistic Regression"
   ]
  },
  {
   "cell_type": "markdown",
   "metadata": {},
   "source": [
    "<br>\n",
    "\n",
    "## Binary Classification"
   ]
  },
  {
   "cell_type": "markdown",
   "metadata": {},
   "source": [
    "분류(Classification) 알고리즘 중 하나로 분류하려는 카테고리가 2가지 범주로 나뉘어진 경우에 적용한다.\n",
    "\n",
    "예를 들면 합격 or 불합격, 스팸메일 or not 스팸메일 등"
   ]
  },
  {
   "cell_type": "markdown",
   "metadata": {},
   "source": [
    "## Binary Logistic Regression"
   ]
  },
  {
   "cell_type": "markdown",
   "metadata": {},
   "source": [
    "로지스틱 회귀는 회귀를 사용하여 주어진 데이터가 어떤 카테고리에 들어갈 확률을 구함으로써 가능성이 더 높은 카테고리에 속하는 것으로 분류를 하는 알고리즘이다.\n",
    "\n",
    "예를 들어 A, B 두 label로 분류를 한다고 할 때 로지스틱 회귀 모델이 주어진 데이터가 A일 확률이 0.5보다 크다고 하면 A, 0.5보다 작다고 하면 B로 분류하는 것이다."
   ]
  },
  {
   "cell_type": "markdown",
   "metadata": {},
   "source": [
    "\n",
    "\n",
    "선형 회귀에서 결과를 예측하기 위해 데이터를 가장 잘 표현하는 직선 $y=Wx+b$를 찾는 학습 과정을 거쳤다. 하지만 직선은 x값의 범위$(-\\infty,\\infty)$에 따라 y값의 범위도 $(-\\infty,\\infty)$를 갖는다.\n",
    "\n",
    "<img src='https://cdn.shortpixel.ai/client/q_glossy,ret_img,w_1017/http://hleecaster.com/wp-content/uploads/2019/12/logreg01.png' width=500>\n",
    "\n",
    "따라서 y값을 확률의 범위인 $[0,1]$의 범위로 변환시키는 과정이 필요하다.\n",
    "\n",
    "<img src='https://cdn.shortpixel.ai/client/q_glossy,ret_img,w_973/http://hleecaster.com/wp-content/uploads/2019/12/logreg02.png' width=500>"
   ]
  },
  {
   "cell_type": "markdown",
   "metadata": {},
   "source": [
    "## Odds\n",
    "\n",
    "확률을 표현하는 방법으로 Odds를 사용한다. Odds는 사건이 발생할 확률을 사건이 발생하지 않을 확률로 나눈 값이다.\n",
    "\n",
    "$$\\text{odds}={{P(A)}\\over{P(A^c)}}={{p}\\over{1-p}}$$\n",
    "\n",
    "하지만 Odds는 $(0,\\infty)$의 범위를 갖는다."
   ]
  },
  {
   "cell_type": "markdown",
   "metadata": {},
   "source": [
    "## Logits\n",
    "\n",
    "Odds에 자연 로그를 씌운 것이 Logits이며 y는 $(-\\infty, \\infty)$ 범위의 값을 갖게 된다.\n",
    "\n",
    "따라서 Logits를 $y=Wx+b$ 형태의 직선으로 나타낼 수 있다.\n",
    "\n",
    "$$L=\\log{\\text{(Odds)}}=\\ln{{p}\\over{1-p}}=Wx+b$$\n",
    "\n",
    "위의 식 $L=\\ln{{p}\\over{1-p}}$는 다음과 같이 Sigmoid 함수로 정리함으로써 확률을 구할 수 있다.\n",
    "\n",
    "$$\\ln{{p}\\over{1-p}}=L$$\n",
    "\n",
    "\n",
    "$${{p}\\over{1-p}}=e^L$$\n",
    "\n",
    "\n",
    "$${{1-p}\\over{p}}={{1}\\over{e^L}}$$\n",
    "\n",
    "\n",
    "$${{1}\\over{p}}-1={{1}\\over{e^L}}$$\n",
    "\n",
    "\n",
    "$${{1}\\over{p}}={{1+e^L}\\over{e^L}}$$\n",
    "\n",
    "\n",
    "$$p={{e^L}\\over{1+e^L}}$$\n",
    "\n",
    "\n",
    "$$p={{1}\\over{1+e^{-L}}}$$\n",
    "\n",
    "\n",
    "$$p={{1}\\over{1+e^{-(Wx+b)}}}$$\n",
    "\n",
    "결국 로지스틱 회귀는 위의 Sigmoid 함수의 W, b 값을 찾는 문제가 된다."
   ]
  }
 ],
 "metadata": {
  "kernelspec": {
   "display_name": "Python 3",
   "language": "python",
   "name": "python3"
  },
  "language_info": {
   "codemirror_mode": {
    "name": "ipython",
    "version": 3
   },
   "file_extension": ".py",
   "mimetype": "text/x-python",
   "name": "python",
   "nbconvert_exporter": "python",
   "pygments_lexer": "ipython3",
   "version": "3.8.3"
  }
 },
 "nbformat": 4,
 "nbformat_minor": 4
}
